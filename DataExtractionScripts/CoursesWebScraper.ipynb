{
  "nbformat": 4,
  "nbformat_minor": 0,
  "metadata": {
    "colab": {
      "provenance": []
    },
    "kernelspec": {
      "name": "python3",
      "display_name": "Python 3"
    },
    "language_info": {
      "name": "python"
    }
  },
  "cells": [
    {
      "cell_type": "code",
      "source": [
        "!pip install BeautifulSoup4"
      ],
      "metadata": {
        "colab": {
          "base_uri": "https://localhost:8080/"
        },
        "id": "XYB1svuNpawn",
        "outputId": "b8fca677-2018-40bf-fafb-60e512173706"
      },
      "execution_count": 4,
      "outputs": [
        {
          "output_type": "stream",
          "name": "stdout",
          "text": [
            "Requirement already satisfied: BeautifulSoup4 in /usr/local/lib/python3.11/dist-packages (4.13.3)\n",
            "Requirement already satisfied: soupsieve>1.2 in /usr/local/lib/python3.11/dist-packages (from BeautifulSoup4) (2.6)\n",
            "Requirement already satisfied: typing-extensions>=4.0.0 in /usr/local/lib/python3.11/dist-packages (from BeautifulSoup4) (4.12.2)\n"
          ]
        }
      ]
    },
    {
      "cell_type": "code",
      "execution_count": 6,
      "metadata": {
        "id": "ok7cKubeoHTx"
      },
      "outputs": [],
      "source": [
        "import requests\n",
        "from bs4 import BeautifulSoup\n",
        "import re"
      ]
    },
    {
      "cell_type": "code",
      "source": [
        "# Extract all links\n",
        "course_links = []\n",
        "for a_tag in soup.find_all(\"a\", href=True):\n",
        "    href = a_tag[\"href\"]\n",
        "\n",
        "    # Filter only course links (assuming course links start with \"/courses/\")\n",
        "    if href.startswith(\"/courses/\"):\n",
        "        course_links.append(href)\n",
        "\n",
        "paths = []\n",
        "# Print extracted links\n",
        "for link in course_links:\n",
        "  paths.append(link)"
      ],
      "metadata": {
        "id": "Mmg-f2CTrk8j"
      },
      "execution_count": 21,
      "outputs": []
    },
    {
      "cell_type": "code",
      "source": [
        "pattern = re.compile(r\"^/courses/[\\w-]+/(?!.*\\.pdf$)\")\n",
        "# Filter paths that match the regex\n",
        "filtered_paths = [path for path in paths if pattern.match(path)]\n"
      ],
      "metadata": {
        "colab": {
          "base_uri": "https://localhost:8080/"
        },
        "id": "IW0C01jApYGf",
        "outputId": "2b81fab1-ee48-4e0e-f333-618541642605"
      },
      "execution_count": 24,
      "outputs": [
        {
          "output_type": "stream",
          "name": "stdout",
          "text": [
            "['/courses/acct_i_s/', '/courses/act_sci/', '/courses/afroamer/', '/courses/african/', '/courses/a_a_e/', '/courses/agroecol/', '/courses/agronomy/', '/courses/a_f_aero/', '/courses/amer_ind/', '/courses/anatomy/', '/courses/anat_phy/', '/courses/anesthes/', '/courses/an_sci/', '/courses/anthro/', '/courses/abt/', '/courses/art/', '/courses/art_ed/', '/courses/art_hist/', '/courses/asian_am/', '/courses/asian/', '/courses/asialang/', '/courses/astron/', '/courses/atm_ocn/', '/courses/biochem/', '/courses/bse/', '/courses/biology/', '/courses/biocore/', '/courses/b_m_e/', '/courses/biomdsci/', '/courses/bmolchem/', '/courses/b_m_i/', '/courses/botany/', '/courses/crb/', '/courses/cbe/', '/courses/chem/', '/courses/chicla/', '/courses/civ_engr/', '/courses/cscs/', '/courses/classics/', '/courses/cnp/', '/courses/com_arts/', '/courses/cs_d/', '/courses/c_e_soc/', '/courses/comp_bio/', '/courses/comp_lit/', '/courses/comp_sci/', '/courses/cnsr_sci/', '/courses/coun_psy/', '/courses/curric/', '/courses/dy_sci/', '/courses/dance/', '/courses/derm/', '/courses/ds/', '/courses/econ/', '/courses/elpa/', '/courses/ed_pol/', '/courses/ed_psych/', '/courses/e_c_e/', '/courses/emer_med/', '/courses/e_m_a/', '/courses/e_p/', '/courses/e_p_d/', '/courses/esl/', '/courses/engl/', '/courses/entom/', '/courses/envir_st/', '/courses/fam_med/', '/courses/fisc/', '/courses/finance/', '/courses/folklore/', '/courses/food_sci/', '/courses/f_w_ecol/', '/courses/french/', '/courses/gen_ws/', '/courses/gen_bus/', '/courses/genecslr/', '/courses/genetics/', '/courses/geog/', '/courses/g_l_e/', '/courses/geosci/', '/courses/german/', '/courses/gns/', '/courses/greek/', '/courses/hebr_bib/', '/courses/hebr_mod/', '/courses/history/', '/courses/hist_sci/', '/courses/hort/', '/courses/hdfs/', '/courses/h_oncol/', '/courses/i_sy_e/', '/courses/info_sys/', '/courses/integart/', '/courses/ils/', '/courses/integsci/', '/courses/inter_ag/', '/courses/interegr/', '/courses/inter_ls/', '/courses/inter_he/', '/courses/stdyabrd/', '/courses/intl_bus/', '/courses/intl_st/', '/courses/italian/', '/courses/jewish/', '/courses/journ/', '/courses/kines/', '/courses/land_arc/', '/courses/lacis/', '/courses/latin/', '/courses/law/', '/courses/legal_st/', '/courses/l_i_s/', '/courses/lsc/', '/courses/linguis/', '/courses/littrans/', '/courses/m_h_r/', '/courses/marketng/', '/courses/m_s_e/', '/courses/math/', '/courses/m_e/', '/courses/md_genet/', '/courses/med_hist/', '/courses/m_m_i/', '/courses/med_phys/', '/courses/med_sc_m/', '/courses/med_sc_v/', '/courses/medicine/', '/courses/medieval/', '/courses/microbio/', '/courses/mil_sci/', '/courses/m_envtox/', '/courses/mol_biol/', '/courses/music/', '/courses/mus_perf/', '/courses/nav_sci/', '/courses/neursurg/', '/courses/neurol/', '/courses/neurodpt/', '/courses/ntp/', '/courses/n_e/', '/courses/nursing/', '/courses/nutr_sci/', '/courses/obs_gyn/', '/courses/occ_ther/', '/courses/oncology/', '/courses/otm/', '/courses/ophthalm/', '/courses/path_bio/', '/courses/path/', '/courses/pediat/', '/courses/phm_sci/', '/courses/phmcol_m/', '/courses/pharmacy/', '/courses/phm_prac/', '/courses/philos/', '/courses/phy_ther/', '/courses/phy_asst/', '/courses/physics/', '/courses/physiol/', '/courses/pl_path/', '/courses/plantsci/', '/courses/poli_sci/', '/courses/pop_hlth/', '/courses/portug/', '/courses/psychiat/', '/courses/psych/', '/courses/pub_affr/', '/courses/publhlth/', '/courses/radiol/', '/courses/real_est/', '/courses/rhab_med/', '/courses/rp_se/', '/courses/relig_st/', '/courses/r_m_i/', '/courses/scand_st/', '/courses/sts/', '/courses/sr_med/', '/courses/slavic/', '/courses/s_a_phm/', '/courses/soc_work/', '/courses/soc/', '/courses/soil_sci/', '/courses/spanish/', '/courses/stat/', '/courses/surgery/', '/courses/surg_sci/', '/courses/theatre/', '/courses/urb_r_pl/', '/courses/zoology/', '/courses/acct_i_s/', '/courses/act_sci/', '/courses/afroamer/', '/courses/african/', '/courses/a_a_e/', '/courses/agroecol/', '/courses/agronomy/', '/courses/a_f_aero/', '/courses/amer_ind/', '/courses/anat_phy/', '/courses/anatomy/', '/courses/anesthes/', '/courses/an_sci/', '/courses/anthro/', '/courses/abt/', '/courses/art/', '/courses/art_ed/', '/courses/art_hist/', '/courses/asian_am/', '/courses/asian/', '/courses/asialang/', '/courses/astron/', '/courses/atm_ocn/', '/courses/biochem/', '/courses/bse/', '/courses/biology/', '/courses/biocore/', '/courses/b_m_e/', '/courses/biomdsci/', '/courses/bmolchem/', '/courses/b_m_i/', '/courses/botany/', '/courses/crb/', '/courses/cbe/', '/courses/chem/', '/courses/chicla/', '/courses/civ_engr/', '/courses/cscs/', '/courses/classics/', '/courses/cnp/', '/courses/com_arts/', '/courses/cs_d/', '/courses/c_e_soc/', '/courses/comp_bio/', '/courses/comp_lit/', '/courses/comp_sci/', '/courses/cnsr_sci/', '/courses/coun_psy/', '/courses/curric/', '/courses/dy_sci/', '/courses/dance/', '/courses/derm/', '/courses/ds/', '/courses/econ/', '/courses/elpa/', '/courses/ed_pol/', '/courses/ed_psych/', '/courses/e_c_e/', '/courses/emer_med/', '/courses/e_m_a/', '/courses/e_p/', '/courses/e_p_d/', '/courses/engl/', '/courses/esl/', '/courses/entom/', '/courses/envir_st/', '/courses/fam_med/', '/courses/fisc/', '/courses/finance/', '/courses/folklore/', '/courses/food_sci/', '/courses/f_w_ecol/', '/courses/french/', '/courses/gen_ws/', '/courses/gen_bus/', '/courses/genecslr/', '/courses/genetics/', '/courses/geog/', '/courses/g_l_e/', '/courses/geosci/', '/courses/german/', '/courses/gns/', '/courses/greek/', '/courses/hebr_bib/', '/courses/hebr_mod/', '/courses/history/', '/courses/hist_sci/', '/courses/hort/', '/courses/hdfs/', '/courses/h_oncol/', '/courses/i_sy_e/', '/courses/info_sys/', '/courses/integart/', '/courses/ils/', '/courses/integsci/', '/courses/inter_ag/', '/courses/interegr/', '/courses/inter_ls/', '/courses/inter_he/', '/courses/stdyabrd/', '/courses/intl_bus/', '/courses/intl_st/', '/courses/italian/', '/courses/jewish/', '/courses/journ/', '/courses/kines/', '/courses/land_arc/', '/courses/latin/', '/courses/lacis/', '/courses/law/', '/courses/legal_st/', '/courses/l_i_s/', '/courses/lsc/', '/courses/linguis/', '/courses/littrans/', '/courses/m_h_r/', '/courses/marketng/', '/courses/m_s_e/', '/courses/math/', '/courses/m_e/', '/courses/md_genet/', '/courses/med_hist/', '/courses/m_m_i/', '/courses/med_phys/', '/courses/med_sc_m/', '/courses/med_sc_v/', '/courses/medicine/', '/courses/medieval/', '/courses/microbio/', '/courses/mil_sci/', '/courses/m_envtox/', '/courses/mol_biol/', '/courses/music/', '/courses/mus_perf/', '/courses/nav_sci/', '/courses/neursurg/', '/courses/neurol/', '/courses/neurodpt/', '/courses/ntp/', '/courses/n_e/', '/courses/nursing/', '/courses/nutr_sci/', '/courses/obs_gyn/', '/courses/occ_ther/', '/courses/oncology/', '/courses/otm/', '/courses/ophthalm/', '/courses/path_bio/', '/courses/path/', '/courses/pediat/', '/courses/phm_sci/', '/courses/phmcol_m/', '/courses/pharmacy/', '/courses/phm_prac/', '/courses/philos/', '/courses/phy_ther/', '/courses/phy_asst/', '/courses/physics/', '/courses/physiol/', '/courses/pl_path/', '/courses/plantsci/', '/courses/poli_sci/', '/courses/pop_hlth/', '/courses/portug/', '/courses/psychiat/', '/courses/psych/', '/courses/pub_affr/', '/courses/publhlth/', '/courses/radiol/', '/courses/real_est/', '/courses/rhab_med/', '/courses/rp_se/', '/courses/relig_st/', '/courses/r_m_i/', '/courses/scand_st/', '/courses/sts/', '/courses/sr_med/', '/courses/slavic/', '/courses/s_a_phm/', '/courses/soc_work/', '/courses/soc/', '/courses/soil_sci/', '/courses/spanish/', '/courses/stat/', '/courses/surgery/', '/courses/surg_sci/', '/courses/theatre/', '/courses/urb_r_pl/', '/courses/zoology/']\n"
          ]
        }
      ]
    },
    {
      "cell_type": "code",
      "source": [
        "courses = [div for div in soup.find_all(class_=\"courseblock\")]"
      ],
      "metadata": {
        "id": "X28RN0qavSA1"
      },
      "execution_count": 77,
      "outputs": []
    },
    {
      "cell_type": "code",
      "source": [
        "from bs4 import BeautifulSoup\n",
        "import pandas as pd\n",
        "\n",
        "\n",
        "prefix = \"https://guide.wisc.edu\"\n",
        "\n",
        "for path in filtered_paths:\n",
        "  temp = requests.get(prefix+path)\n",
        "  # Parse HTML\n",
        "  soup = BeautifulSoup(temp.content, \"html.parser\")\n",
        "\n",
        "  # Extract course details\n",
        "\n",
        "  for block in soup.find_all(\"div\", class_=\"courseblock\"):\n",
        "      course_code = block.find(\"span\", class_=\"courseblockcode\").get_text(strip=True) if block.find(\"span\", class_=\"courseblockcode\") else \"N/A\"\n",
        "      course_title = block.find(\"p\", class_=\"courseblocktitle\").get_text(strip=True) if block.find(\"p\", class_=\"courseblocktitle\") else \"N/A\"\n",
        "      credits = block.find(\"p\", class_=\"courseblockcredits\").get_text(strip=True) if block.find(\"p\", class_=\"courseblockcredits\") else \"N/A\"\n",
        "      description = block.find(\"p\", class_=\"courseblockdesc\").get_text(strip=True) if block.find(\"p\", class_=\"courseblockdesc\") else \"N/A\"\n",
        "\n",
        "      # Extract requisites\n",
        "      requisites = \"N/A\"\n",
        "      for extra in block.find_all(\"p\", class_=\"courseblockextra\"):\n",
        "          if \"Requisites\" in extra.get_text():\n",
        "              requisites = extra.find(\"span\", class_=\"cbextra-data\").get_text(strip=True)\n",
        "\n",
        "      # Extract last taught term\n",
        "      last_taught = \"N/A\"\n",
        "      for extra in block.find_all(\"p\", class_=\"courseblockextra\"):\n",
        "          if \"Last Taught\" in extra.get_text():\n",
        "              last_taught = extra.find(\"span\", class_=\"cbextra-data\").get_text(strip=True)\n",
        "\n",
        "      # Extract learning outcomes\n",
        "      learning_outcomes = []\n",
        "      for extra in block.find_all(\"p\", class_=\"courseblockextra\"):\n",
        "          if \"Learning Outcomes\" in extra.get_text():\n",
        "              outcomes = extra.find(\"span\", class_=\"cbextra-data\")\n",
        "              if outcomes:\n",
        "                  learning_outcomes = [line.strip() for line in outcomes.get_text(\"\\n\").split(\"\\n\") if line.strip()]\n",
        "\n",
        "      # Store data\n",
        "      courses.append({\n",
        "          \"Course Code\": course_code,\n",
        "          \"Course Title\": course_title,\n",
        "          \"Credits\": credits,\n",
        "          \"Description\": description,\n",
        "          \"Requisites\": requisites,\n",
        "          \"Last Taught\": last_taught,\n",
        "          \"Learning Outcomes\": \"; \".join(learning_outcomes)  # Store as a semicolon-separated string\n",
        "      }\n",
        "      )\n",
        "  print(\"Parses for \", path)\n",
        "\n",
        "# Convert to DataFrame\n",
        "df = pd.DataFrame(courses)\n",
        "\n",
        "# Save to CSV\n",
        "df.to_csv(\"courses.csv\", index=False)\n",
        "\n",
        "print(\"CSV file 'courses.csv' has been created successfully!\")\n"
      ],
      "metadata": {
        "colab": {
          "base_uri": "https://localhost:8080/"
        },
        "id": "uUtuBk0TxOro",
        "outputId": "5056bb50-4dda-4495-f46c-48ef08d96648"
      },
      "execution_count": 84,
      "outputs": [
        {
          "output_type": "stream",
          "name": "stdout",
          "text": [
            "CSV file 'courses.csv' has been created successfully!\n"
          ]
        }
      ]
    }
  ]
}